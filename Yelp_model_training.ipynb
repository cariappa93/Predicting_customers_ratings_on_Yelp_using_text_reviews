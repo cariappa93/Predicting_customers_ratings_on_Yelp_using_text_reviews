{
 "cells": [
  {
   "cell_type": "markdown",
   "id": "f1ae34ac",
   "metadata": {},
   "source": [
    "# Predicting Customers Ratings on Yelp"
   ]
  },
  {
   "cell_type": "markdown",
   "id": "f0145e8b",
   "metadata": {},
   "source": [
    "### Learnings:\n",
    "1. Data Mining using Regular Expressions and APIs\n",
    "2. Working with large datasets in .json format\n",
    "3. Vectorization of textual data to create features for model training\n",
    "4. Comparing Model Performance of Naïve Bayes Classifier, Logistic Regression Classifier, Random Forest Classifier and Linear Support Vector Machine"
   ]
  },
  {
   "cell_type": "markdown",
   "id": "4c0ed4b7",
   "metadata": {},
   "source": [
    "## Data Extraction from YELP"
   ]
  },
  {
   "cell_type": "markdown",
   "id": "ab9f8c49",
   "metadata": {},
   "source": [
    "##### 1. Using YELP Fusion API\n",
    "YELP has given developers access to download datasets using their API where-in:\n",
    "- Business Search results using keywords like category, location and prices are available\n",
    "- Business Details like name, address, phone number, photos, Yelp rating, price levels and hours of operation are available\n",
    "- Upto 3 Customer Reviews for a business are available\n",
    "\n",
    "- Detailed documentation which can be used to get data is [here](https://docs.developer.yelp.com/docs/fusion-intro)"
   ]
  },
  {
   "cell_type": "markdown",
   "id": "af0951e6",
   "metadata": {},
   "source": [
    "##### 2. Using Existing Yelp Dataset\n",
    "- For this project, I am using the already available dataset provided by [YELP](https://www.yelp.com/dataset/download)\n",
    "- This 8.65GB datafile contains yelp_academic_dataset_business.json(113MB) and yelp_academic_dataset_review.json(4.97GB) which we will be using in this analysis"
   ]
  },
  {
   "cell_type": "markdown",
   "id": "adc43091",
   "metadata": {},
   "source": [
    "##### 3. Processing a HTML File\n",
    "- We can also use Regular Expressions to extract data from HTML pages of the website. [Python Documentation](https://docs.python.org/3/howto/regex.html) provides more details to use 're' package\n",
    "\n",
    "#### Below is a quick demo to extract \"Top 10 Restaurants Name, Stars Received, Number of Reviews and $ Price Ratings\" from a HTML webpage hosted [here](https://cse6040.gatech.edu/datasets/yelp-example)"
   ]
  },
  {
   "cell_type": "code",
   "execution_count": 1,
   "id": "f36212be",
   "metadata": {
    "scrolled": true
   },
   "outputs": [
    {
     "name": "stdout",
     "output_type": "stream",
     "text": [
      "Printing first 1000 characters in the HTML file: \n",
      "\n",
      " <!DOCTYPE html>\n",
      "<!-- saved from url=(0079)https://www.yelp.com/search?find_desc=fried+chicken&find_loc=Atlanta%2C+GA&ns=1 -->\n",
      "<html xmlns:fb=\"http://www.facebook.com/2008/fbml\" class=\"js gr__yelp_com\" lang=\"en\"><!--<![endif]--><head data-component-bound=\"true\"><meta http-equiv=\"Content-Type\" content=\"text/html; charset=UTF-8\"><link type=\"text/css\" rel=\"stylesheet\" href=\"./Best Fried chicken in Atlanta, GA - Yelp_files/css\"><style type=\"text/css\">.gm-style .gm-style-cc span,.gm-style .gm-style-cc a,.gm-style .gm-style-mtc div{font-size:10px}\n",
      "</style><style type=\"text/css\">@media print {  .gm-style .gmnoprint, .gmnoprint {    display:none  }}@media screen {  .gm-style .gmnoscreen, .gmnoscreen {    display:none  }}</style><style type=\"text/css\">.gm-style-pbc{transition:opacity ease-in-out;background-color:rgba(0,0,0,0.45);text-align:center}.gm-style-pbt{font-size:22px;color:white;font-family:Roboto,Arial,sans-serif;position:relative;margin:0;top:50%;-webkit-transform:translateY(-50%);-ms-\n"
     ]
    }
   ],
   "source": [
    "#Read the html file into python string\n",
    "with open('yelp.htm', 'r', encoding='utf-8') as yelp_file:\n",
    "    yelp_html = yelp_file.read()\n",
    "\n",
    "print(f'Printing first 1000 characters in the HTML file: \\n\\n {yelp_html[:1000]}')"
   ]
  },
  {
   "cell_type": "code",
   "execution_count": 2,
   "id": "aa310e7b",
   "metadata": {},
   "outputs": [
    {
     "name": "stdout",
     "output_type": "stream",
     "text": [
      "1. Gus’s World Famous Fried Chicken ($$): 4.0 stars based on 549 reviews\n",
      "2. South City Kitchen - Midtown ($$): 4.5 stars based on 1777 reviews\n",
      "3. Mary Mac’s Tea Room ($$): 4.0 stars based on 2241 reviews\n",
      "4. Busy Bee Cafe ($$): 4.0 stars based on 481 reviews\n",
      "5. Richards’ Southern Fried ($$): 4.0 stars based on 108 reviews\n",
      "6. Greens &amp; Gravy ($$): 3.5 stars based on 93 reviews\n",
      "7. Colonnade Restaurant ($$): 4.0 stars based on 350 reviews\n",
      "8. South City Kitchen Buckhead ($$): 4.5 stars based on 248 reviews\n",
      "9. Poor Calvin’s ($$): 4.5 stars based on 1558 reviews\n",
      "10. Rock’s Chicken &amp; Fries ($): 4.0 stars based on 67 reviews\n"
     ]
    }
   ],
   "source": [
    "# Use Regular Expressions to extract information related to Top 10 Restaurants into a list\n",
    "import re\n",
    "sections = re.split(r'<span class=\"indexed-biz-name\">',yelp_html)\n",
    "sections[10] = re.split(r'<a class=\"biz-name js-analytics-click',sections[10])[1]  #Removing the Ads section\n",
    "\n",
    "rankings = []\n",
    "\n",
    "pattern = r'<span>(.*)</span></a>.*(\\d\\.\\d) star rating.* (\\d+) reviews.*price-range\">(\\$+)'\n",
    "pattern_matcher = re.compile(pattern,re.DOTALL)     #DOTALL flag enables the '.' special character match any character, including a newline\n",
    "\n",
    "for i in range(0,len(sections)-1):\n",
    "    matches = pattern_matcher.search(sections[i+1])\n",
    "    rankings.append({'name':matches.groups()[0], 'stars':matches.groups()[1], 'numrevs':int(matches.groups()[2]), 'price':matches.groups()[3]})\n",
    "\n",
    "for i, r in enumerate(rankings):\n",
    "    print(f\"{i+1}. {r['name']} ({r['price']}): {r['stars']} stars based on {r['numrevs']} reviews\")"
   ]
  },
  {
   "cell_type": "markdown",
   "id": "e72752e7",
   "metadata": {},
   "source": [
    "## Loading Datasets into local environment"
   ]
  },
  {
   "cell_type": "code",
   "execution_count": 3,
   "id": "1cc978cf",
   "metadata": {},
   "outputs": [],
   "source": [
    "import pandas as pd"
   ]
  },
  {
   "cell_type": "code",
   "execution_count": 4,
   "id": "6f812392",
   "metadata": {},
   "outputs": [],
   "source": [
    "df_business = pd.read_json('yelp_academic_dataset_business.json',lines = True) #Reading the file as a json object per line"
   ]
  },
  {
   "cell_type": "code",
   "execution_count": 5,
   "id": "5dec6f47",
   "metadata": {
    "scrolled": true
   },
   "outputs": [
    {
     "name": "stdout",
     "output_type": "stream",
     "text": [
      "(150346, 14)\n"
     ]
    },
    {
     "data": {
      "text/html": [
       "<div>\n",
       "<style scoped>\n",
       "    .dataframe tbody tr th:only-of-type {\n",
       "        vertical-align: middle;\n",
       "    }\n",
       "\n",
       "    .dataframe tbody tr th {\n",
       "        vertical-align: top;\n",
       "    }\n",
       "\n",
       "    .dataframe thead th {\n",
       "        text-align: right;\n",
       "    }\n",
       "</style>\n",
       "<table border=\"1\" class=\"dataframe\">\n",
       "  <thead>\n",
       "    <tr style=\"text-align: right;\">\n",
       "      <th></th>\n",
       "      <th>business_id</th>\n",
       "      <th>name</th>\n",
       "      <th>address</th>\n",
       "      <th>city</th>\n",
       "      <th>state</th>\n",
       "      <th>postal_code</th>\n",
       "      <th>latitude</th>\n",
       "      <th>longitude</th>\n",
       "      <th>stars</th>\n",
       "      <th>review_count</th>\n",
       "      <th>is_open</th>\n",
       "      <th>attributes</th>\n",
       "      <th>categories</th>\n",
       "      <th>hours</th>\n",
       "    </tr>\n",
       "  </thead>\n",
       "  <tbody>\n",
       "    <tr>\n",
       "      <th>0</th>\n",
       "      <td>Pns2l4eNsfO8kk83dixA6A</td>\n",
       "      <td>Abby Rappoport, LAC, CMQ</td>\n",
       "      <td>1616 Chapala St, Ste 2</td>\n",
       "      <td>Santa Barbara</td>\n",
       "      <td>CA</td>\n",
       "      <td>93101</td>\n",
       "      <td>34.426679</td>\n",
       "      <td>-119.711197</td>\n",
       "      <td>5.0</td>\n",
       "      <td>7</td>\n",
       "      <td>0</td>\n",
       "      <td>{'ByAppointmentOnly': 'True'}</td>\n",
       "      <td>Doctors, Traditional Chinese Medicine, Naturop...</td>\n",
       "      <td>None</td>\n",
       "    </tr>\n",
       "    <tr>\n",
       "      <th>1</th>\n",
       "      <td>mpf3x-BjTdTEA3yCZrAYPw</td>\n",
       "      <td>The UPS Store</td>\n",
       "      <td>87 Grasso Plaza Shopping Center</td>\n",
       "      <td>Affton</td>\n",
       "      <td>MO</td>\n",
       "      <td>63123</td>\n",
       "      <td>38.551126</td>\n",
       "      <td>-90.335695</td>\n",
       "      <td>3.0</td>\n",
       "      <td>15</td>\n",
       "      <td>1</td>\n",
       "      <td>{'BusinessAcceptsCreditCards': 'True'}</td>\n",
       "      <td>Shipping Centers, Local Services, Notaries, Ma...</td>\n",
       "      <td>{'Monday': '0:0-0:0', 'Tuesday': '8:0-18:30', ...</td>\n",
       "    </tr>\n",
       "  </tbody>\n",
       "</table>\n",
       "</div>"
      ],
      "text/plain": [
       "              business_id                      name  \\\n",
       "0  Pns2l4eNsfO8kk83dixA6A  Abby Rappoport, LAC, CMQ   \n",
       "1  mpf3x-BjTdTEA3yCZrAYPw             The UPS Store   \n",
       "\n",
       "                           address           city state postal_code  \\\n",
       "0           1616 Chapala St, Ste 2  Santa Barbara    CA       93101   \n",
       "1  87 Grasso Plaza Shopping Center         Affton    MO       63123   \n",
       "\n",
       "    latitude   longitude  stars  review_count  is_open  \\\n",
       "0  34.426679 -119.711197    5.0             7        0   \n",
       "1  38.551126  -90.335695    3.0            15        1   \n",
       "\n",
       "                               attributes  \\\n",
       "0           {'ByAppointmentOnly': 'True'}   \n",
       "1  {'BusinessAcceptsCreditCards': 'True'}   \n",
       "\n",
       "                                          categories  \\\n",
       "0  Doctors, Traditional Chinese Medicine, Naturop...   \n",
       "1  Shipping Centers, Local Services, Notaries, Ma...   \n",
       "\n",
       "                                               hours  \n",
       "0                                               None  \n",
       "1  {'Monday': '0:0-0:0', 'Tuesday': '8:0-18:30', ...  "
      ]
     },
     "execution_count": 5,
     "metadata": {},
     "output_type": "execute_result"
    }
   ],
   "source": [
    "print(df_business.shape)\n",
    "df_business.head(2)"
   ]
  },
  {
   "cell_type": "code",
   "execution_count": 6,
   "id": "71410660",
   "metadata": {},
   "outputs": [
    {
     "data": {
      "text/plain": [
       "business_id      0\n",
       "categories     103\n",
       "dtype: int64"
      ]
     },
     "execution_count": 6,
     "metadata": {},
     "output_type": "execute_result"
    }
   ],
   "source": [
    "df_business = df_business[['business_id','categories']]\n",
    "df_business.isna().sum()"
   ]
  },
  {
   "cell_type": "code",
   "execution_count": 7,
   "id": "23c49fed",
   "metadata": {
    "scrolled": true
   },
   "outputs": [
    {
     "data": {
      "text/plain": [
       "(150243, 2)"
      ]
     },
     "execution_count": 7,
     "metadata": {},
     "output_type": "execute_result"
    }
   ],
   "source": [
    "#Removing rows with NULL categories\n",
    "df_business = df_business.dropna(axis=0,subset=['categories'])\n",
    "df_business.shape"
   ]
  },
  {
   "cell_type": "code",
   "execution_count": 8,
   "id": "3ec8ea11",
   "metadata": {},
   "outputs": [
    {
     "data": {
      "text/plain": [
       "(52286, 2)"
      ]
     },
     "execution_count": 8,
     "metadata": {},
     "output_type": "execute_result"
    }
   ],
   "source": [
    "#Filtering the data for Restaurants only to get the relevant business_ids\n",
    "df_business = df_business[df_business['categories'].apply(lambda x: bool(re.search('restaurant',x.lower())))]\n",
    "df_business.reset_index(drop=True, inplace=True)\n",
    "df_business.shape"
   ]
  },
  {
   "cell_type": "markdown",
   "id": "10c11ac5",
   "metadata": {},
   "source": [
    "#### As the reviews file size is very large(~5GB), [Techniques](https://towardsdatascience.com/5-ways-to-deal-with-large-datasets-in-python-9a80786c4182) like providing data types of each column, splitting data into chunks and taking advantage of lazy evaluation are utilized.\n",
    "- Post which merging the file with the Business Details dataset reduces the size further, as we want reviews for businesses with ratings present which can be utilized for model training"
   ]
  },
  {
   "cell_type": "code",
   "execution_count": 9,
   "id": "02f66363",
   "metadata": {},
   "outputs": [],
   "source": [
    "chunk_size = 1000000\n",
    "chunk = pd.read_json('yelp_academic_dataset_review.json',lines = True,chunksize=chunk_size,\n",
    "                                dtype={'review_id':str,'user_id':str,'business_id':str,'stars':int,'date':str,'text':str,'useful':int,\n",
    "                                'funny':int,'cool':int})  #Column details are available on YELP website"
   ]
  },
  {
   "cell_type": "code",
   "execution_count": 10,
   "id": "690acc3b",
   "metadata": {},
   "outputs": [
    {
     "name": "stdout",
     "output_type": "stream",
     "text": [
      "Shape is (689519, 4)\n",
      "Shape is (677970, 4)\n",
      "Shape is (669057, 4)\n",
      "Shape is (667487, 4)\n",
      "Shape is (672899, 4)\n",
      "Shape is (690267, 4)\n",
      "Shape is (657485, 4)\n"
     ]
    }
   ],
   "source": [
    "#Merging Business data with Reviews data\n",
    "chunk_list=[]\n",
    "for review_temp in chunk:\n",
    "    review_temp_merged = pd.merge(df_business, review_temp[['business_id','stars','text']], on='business_id', how='inner')\n",
    "    print(f'Shape is {review_temp_merged.shape}')\n",
    "    chunk_list.append(review_temp_merged)\n",
    "\n",
    "df_review = pd.concat(chunk_list, ignore_index=True, join='outer', axis=0)"
   ]
  },
  {
   "cell_type": "code",
   "execution_count": 26,
   "id": "cd60a958",
   "metadata": {},
   "outputs": [
    {
     "name": "stdout",
     "output_type": "stream",
     "text": [
      "(4724684, 2)\n"
     ]
    },
    {
     "data": {
      "text/html": [
       "<div>\n",
       "<style scoped>\n",
       "    .dataframe tbody tr th:only-of-type {\n",
       "        vertical-align: middle;\n",
       "    }\n",
       "\n",
       "    .dataframe tbody tr th {\n",
       "        vertical-align: top;\n",
       "    }\n",
       "\n",
       "    .dataframe thead th {\n",
       "        text-align: right;\n",
       "    }\n",
       "</style>\n",
       "<table border=\"1\" class=\"dataframe\">\n",
       "  <thead>\n",
       "    <tr style=\"text-align: right;\">\n",
       "      <th></th>\n",
       "      <th>text</th>\n",
       "      <th>stars</th>\n",
       "    </tr>\n",
       "  </thead>\n",
       "  <tbody>\n",
       "    <tr>\n",
       "      <th>0</th>\n",
       "      <td>This is nice little Chinese bakery in the hear...</td>\n",
       "      <td>4</td>\n",
       "    </tr>\n",
       "    <tr>\n",
       "      <th>1</th>\n",
       "      <td>This is the bakery I usually go to in Chinatow...</td>\n",
       "      <td>4</td>\n",
       "    </tr>\n",
       "  </tbody>\n",
       "</table>\n",
       "</div>"
      ],
      "text/plain": [
       "                                                text  stars\n",
       "0  This is nice little Chinese bakery in the hear...      4\n",
       "1  This is the bakery I usually go to in Chinatow...      4"
      ]
     },
     "execution_count": 26,
     "metadata": {},
     "output_type": "execute_result"
    }
   ],
   "source": [
    "print(df_review.shape)\n",
    "df_review.head(2)"
   ]
  },
  {
   "cell_type": "code",
   "execution_count": 12,
   "id": "68f18aa0",
   "metadata": {},
   "outputs": [],
   "source": [
    "df_review = df_review[['text','stars']]"
   ]
  },
  {
   "cell_type": "markdown",
   "id": "6b518564",
   "metadata": {},
   "source": [
    "## Data Preprocessing"
   ]
  },
  {
   "cell_type": "markdown",
   "id": "3adc9155",
   "metadata": {},
   "source": [
    "##### Checking distribution of the y-variable:"
   ]
  },
  {
   "cell_type": "code",
   "execution_count": 13,
   "id": "eaf8a65c",
   "metadata": {},
   "outputs": [],
   "source": [
    "import matplotlib.pyplot as plt\n",
    "plt.style.use('ggplot')"
   ]
  },
  {
   "cell_type": "code",
   "execution_count": 14,
   "id": "9a7a97ef",
   "metadata": {},
   "outputs": [
    {
     "data": {
      "text/plain": [
       "(Int64Index([5, 4, 1, 3, 2], dtype='int64'),\n",
       " array([2079531, 1130305,  567227,  543126,  404495], dtype=int64))"
      ]
     },
     "execution_count": 14,
     "metadata": {},
     "output_type": "execute_result"
    }
   ],
   "source": [
    "#Checking distribution of the y-variable:\n",
    "plot_ydist = df_review['stars'].value_counts()\n",
    "plot_ydist.index,plot_ydist.values"
   ]
  },
  {
   "cell_type": "code",
   "execution_count": 15,
   "id": "6d1c48a6",
   "metadata": {},
   "outputs": [
    {
     "data": {
      "image/png": "[encoded data removed]",
      "text/plain": [
       "<Figure size 400x400 with 1 Axes>"
      ]
     },
     "metadata": {},
     "output_type": "display_data"
    }
   ],
   "source": [
    "fig, ax = plt.subplots(figsize=(4, 4))\n",
    "ax.barh(plot_ydist.index,width=plot_ydist.values,color='grey')\n",
    "ax.set_title('Customer ratings ranging from 1 to 5',size=10)\n",
    "ax.set_xlabel('#Reviews',size=12)\n",
    "ax.set_ylabel('Rating Assigned',size=12)\n",
    "plt.show()"
   ]
  },
  {
   "cell_type": "markdown",
   "id": "78c9cf4d",
   "metadata": {},
   "source": [
    "##### As we have imbalanced y-variable counts, we can down-sample the classes which are large in number for model training "
   ]
  },
  {
   "cell_type": "code",
   "execution_count": 16,
   "id": "2cef8b64",
   "metadata": {},
   "outputs": [],
   "source": [
    "#Creating Training, Validation and Test Datasets\n",
    "from sklearn.model_selection import train_test_split\n",
    "\n",
    "df_train_raw, df_test = train_test_split(df_review, test_size=250000, random_state= 1, shuffle=True)\n",
    "df_train_raw, df_val = train_test_split(df_train_raw, test_size=250000,random_state= 1, shuffle=True)"
   ]
  },
  {
   "cell_type": "code",
   "execution_count": 17,
   "id": "d443746c",
   "metadata": {
    "scrolled": true
   },
   "outputs": [
    {
     "name": "stdout",
     "output_type": "stream",
     "text": [
      "(4224684, 2)\n",
      "(250000, 2)\n",
      "(250000, 2)\n"
     ]
    }
   ],
   "source": [
    "print(df_train_raw.shape)\n",
    "print(df_test.shape)\n",
    "print(df_val.shape)"
   ]
  },
  {
   "cell_type": "code",
   "execution_count": 18,
   "id": "cf85b859",
   "metadata": {},
   "outputs": [
    {
     "data": {
      "text/plain": [
       "2     361502\n",
       "3     485519\n",
       "1     507474\n",
       "4    1010102\n",
       "5    1860087\n",
       "Name: stars, dtype: int64"
      ]
     },
     "execution_count": 18,
     "metadata": {},
     "output_type": "execute_result"
    }
   ],
   "source": [
    "df_train_raw['stars'].value_counts().sort_values(ascending=True)"
   ]
  },
  {
   "cell_type": "code",
   "execution_count": 19,
   "id": "283c8a56",
   "metadata": {},
   "outputs": [],
   "source": [
    "#We can down-sample data such that each class has 250000 reviews for model training\n",
    "from sklearn.utils import resample\n",
    "df_train = []\n",
    "for star in df_train_raw['stars'].unique():\n",
    "    df_temp = df_train_raw[df_train_raw['stars'] == star]\n",
    "    df_temp_undersampled = resample(df_temp, replace=False, n_samples=250000, random_state=0)\n",
    "    df_train.append(df_temp_undersampled)"
   ]
  },
  {
   "cell_type": "code",
   "execution_count": 20,
   "id": "d8b21d56",
   "metadata": {},
   "outputs": [],
   "source": [
    "df_train = pd.concat(df_train)"
   ]
  },
  {
   "cell_type": "code",
   "execution_count": 21,
   "id": "4837364d",
   "metadata": {},
   "outputs": [
    {
     "data": {
      "text/plain": [
       "4    250000\n",
       "2    250000\n",
       "1    250000\n",
       "5    250000\n",
       "3    250000\n",
       "Name: stars, dtype: int64"
      ]
     },
     "execution_count": 21,
     "metadata": {},
     "output_type": "execute_result"
    }
   ],
   "source": [
    "df_train['stars'].value_counts()"
   ]
  },
  {
   "cell_type": "code",
   "execution_count": 22,
   "id": "b549136f",
   "metadata": {},
   "outputs": [
    {
     "data": {
      "text/plain": [
       "(5    109639\n",
       " 4     60088\n",
       " 1     29827\n",
       " 3     28873\n",
       " 2     21573\n",
       " Name: stars, dtype: int64,\n",
       " 5    109805\n",
       " 4     60115\n",
       " 1     29926\n",
       " 3     28734\n",
       " 2     21420\n",
       " Name: stars, dtype: int64)"
      ]
     },
     "execution_count": 22,
     "metadata": {},
     "output_type": "execute_result"
    }
   ],
   "source": [
    "df_test['stars'].value_counts(), df_val['stars'].value_counts()"
   ]
  },
  {
   "cell_type": "markdown",
   "id": "edd1c0a7",
   "metadata": {},
   "source": [
    "##### Utilizing the [TF-IDF Vectorizer](https://scikit-learn.org/stable/modules/generated/sklearn.feature_extraction.text.TfidfVectorizer.html) which ignores stop words and converts customer review text into features for model training"
   ]
  },
  {
   "cell_type": "markdown",
   "id": "1a13e729",
   "metadata": {},
   "source": [
    "Uni-gram features considers each unique word as a feature whereas Bi-grams considers pairs of words as features.\n",
    "The \"TfidfVectorizer\" generates a word-review matrix, where entry (i, j) is the frequency of occurence of word i in the \n",
    "j’th review. Then the TF-IDF (Term Frequency - Inverse Document Frequency) weighting technique is applied to this matrix to obtain the final feature matrix. This weighting technique assigns less weight to words that occur more frequently across reviews (e.g. “food”) because they are generally not good distinguishers between any pair of reviews,and a high weight to more rare words. Each column of this matrix is a feature vector of the corresponding review [Source](https://arxiv.org/pdf/1605.05362.pdf)"
   ]
  },
  {
   "cell_type": "code",
   "execution_count": 23,
   "id": "6693405e",
   "metadata": {},
   "outputs": [],
   "source": [
    "from sklearn.feature_extraction.text import TfidfVectorizer\n",
    "vectorizer = TfidfVectorizer(analyzer='word',stop_words='english',\n",
    "                             ngram_range=(1, 1), #(1, 1) means only unigrams, (1, 2) means unigrams and bigrams, and (2, 2) means only bigrams\n",
    "                             lowercase=True,\n",
    "                             min_df=5,  #Minimum frequency for a word to be considered\n",
    "                             binary=False)\n",
    "\n",
    "X_train = vectorizer.fit_transform(df_train[\"text\"]) #Learn vocabulary and idf, return document-term matrix\n",
    "y_train = df_train[\"stars\"].tolist()\n",
    "\n",
    "X_val = vectorizer.transform(df_val[\"text\"]) #Transform documents to document-term matrix.\n",
    "y_val = df_val[\"stars\"].tolist()\n",
    "\n",
    "X_test = vectorizer.transform(df_test[\"text\"]) #Transform documents to document-term matrix by using vocabulary and document frequencies learned by fit_transform\n",
    "y_test = df_test[\"stars\"].tolist()"
   ]
  },
  {
   "cell_type": "code",
   "execution_count": 27,
   "id": "3533189e",
   "metadata": {
    "scrolled": false
   },
   "outputs": [
    {
     "data": {
      "text/plain": [
       "(<1250000x62333 sparse matrix of type '<class 'numpy.float64'>'\n",
       " \twith 52782527 stored elements in Compressed Sparse Row format>,\n",
       " <250000x62333 sparse matrix of type '<class 'numpy.float64'>'\n",
       " \twith 9801835 stored elements in Compressed Sparse Row format>,\n",
       " <250000x62333 sparse matrix of type '<class 'numpy.float64'>'\n",
       " \twith 9775131 stored elements in Compressed Sparse Row format>)"
      ]
     },
     "execution_count": 27,
     "metadata": {},
     "output_type": "execute_result"
    }
   ],
   "source": [
    "X_train, X_test, X_val"
   ]
  },
  {
   "cell_type": "markdown",
   "id": "985e3f85",
   "metadata": {},
   "source": [
    "## Model Training"
   ]
  },
  {
   "cell_type": "markdown",
   "id": "adae93f6",
   "metadata": {},
   "source": [
    "### Using Naïve Bayes Classifier"
   ]
  },
  {
   "cell_type": "markdown",
   "id": "920f2076",
   "metadata": {},
   "source": [
    "**Points to note while using Naïve Bayes:**\n",
    "- Naïve Bayes assumes conditional independence between features given Y and therefore correlated attributes degrades its performance. \n",
    "- It can handle missing values in both training and test insances by using only the non-missing attributes while computing posterior probabilities\n",
    "- It is robust to isolated noise points because such points are not able to significantly impact the conditional probability estimates\n",
    "- It is robust to irrelevant attributes as if Xi is an irrelevant attribute, then P(Xi|Y) becomes almost uniformly distributed for every class y\n",
    "\n",
    "**\"Bayesian Networks\"** can be used if we need to relax the rigid conditional independence assumption"
   ]
  },
  {
   "cell_type": "markdown",
   "id": "17e70a61",
   "metadata": {},
   "source": [
    "Here, we are using the [Multinomial Naive Bayes](https://scikit-learn.org/stable/modules/naive_bayes.html) as it is most suitable for classification with tf-idf"
   ]
  },
  {
   "cell_type": "code",
   "execution_count": 29,
   "id": "828050f2",
   "metadata": {},
   "outputs": [],
   "source": [
    "from sklearn.naive_bayes import MultinomialNB\n",
    "classification_nb = MultinomialNB(fit_prior=True,#Whether to learn class prior probabilities or not.\n",
    "                                 alpha=1.0) #Laplace smoothing parameter is used to avoid getting zero conditional probability "
   ]
  },
  {
   "cell_type": "code",
   "execution_count": 30,
   "id": "89a80d84",
   "metadata": {},
   "outputs": [
    {
     "name": "stdout",
     "output_type": "stream",
     "text": [
      "Wall time: 1.28 s\n"
     ]
    },
    {
     "data": {
      "text/plain": [
       "MultinomialNB()"
      ]
     },
     "execution_count": 30,
     "metadata": {},
     "output_type": "execute_result"
    }
   ],
   "source": [
    "%time classification_nb.fit(X_train, y_train)"
   ]
  },
  {
   "cell_type": "code",
   "execution_count": 40,
   "id": "09fe3a3c",
   "metadata": {},
   "outputs": [],
   "source": [
    "# Evaluation Metrics for classification models\n",
    "from sklearn.metrics import accuracy_score, precision_score, recall_score, f1_score,classification_report, plot_confusion_matrix"
   ]
  },
  {
   "cell_type": "markdown",
   "id": "ac75d452",
   "metadata": {},
   "source": [
    "##### Definitions of Evaluation Metrics\n",
    "**Accuracy**:- is calculated as #Correct Predictions/#Total predictions i.e. (TP+TN/TP+TN+FP+FN)  \n",
    "It is recommended to not use Accuracy when we have imbalanced dataset as the correct predictions on one class would dominate the accuracy metric, even if another class having lower count has lots of incorrect predictions. Eg: Detecting Spam Emails\n",
    "\n",
    "Following metrics are calculated for every class:  \n",
    "**Precision**:- #truly positive cases out of all positive predictions i.e. (TP/TP+FP)  \n",
    "Eg: During detection of spam emails, we wouldnt want to call important emails as spam, so we want to reduce FP as much as we can \n",
    "\n",
    "**Recall**:- #truly positive cases out of all actually positive cases i.e. (TP/TP+FN)  \n",
    "Eg: During Fraudulent Bank Detections, we wouldnt want to miss any fraud transcations, so we want to reduce FN as much as we can \n",
    "\n",
    "**F1 Score**:- Harmonic mean of precision and recall, taking into account both FP and FN can be used on imbalanced datasets"
   ]
  },
  {
   "cell_type": "code",
   "execution_count": 36,
   "id": "fe089add",
   "metadata": {},
   "outputs": [],
   "source": [
    "import numpy as np\n",
    "def Model_Evaluation(model,X_train,y_train,X_test,y_test,X_val,y_val):\n",
    "    print('For Training Dataset:\\n')\n",
    "    y_pred_train = model.predict(X_train)\n",
    "    print(\"Accuracy:\", np.round(accuracy_score(y_train, y_pred_train),2))\n",
    "    print(classification_report(y_train, y_pred_train))\n",
    "    #fig, ax = plt.subplots(figsize=(4, 4))\n",
    "    #plot_confusion_matrix(model, X_train, y_train, cmap=plt.cm.Blues,values_format= '.0%', normalize='true',ax=ax)\n",
    "    \n",
    "    print('########################################################################')\n",
    "    print('For Validation Dataset:\\n')\n",
    "    y_pred_val = model.predict(X_val)\n",
    "    print(\"Accuracy:\", np.round(accuracy_score(y_val, y_pred_val),2))\n",
    "    print(classification_report(y_val, y_pred_val))\n",
    "    print('########################################################################')\n",
    "    print('For Testing Dataset:\\n')\n",
    "    y_pred_test = model.predict(X_test)\n",
    "    print(\"Accuracy:\", np.round(accuracy_score(y_test, y_pred_test),2))\n",
    "    print(classification_report(y_test, y_pred_test))"
   ]
  },
  {
   "cell_type": "code",
   "execution_count": 37,
   "id": "dd9a84de",
   "metadata": {},
   "outputs": [],
   "source": [
    "import warnings\n",
    "warnings.simplefilter(action='ignore', category=FutureWarning)"
   ]
  },
  {
   "cell_type": "code",
   "execution_count": 34,
   "id": "5ac8f052",
   "metadata": {},
   "outputs": [
    {
     "name": "stdout",
     "output_type": "stream",
     "text": [
      "For Training Dataset:\n",
      "\n",
      "Accuracy: 0.58\n",
      "              precision    recall  f1-score   support\n",
      "\n",
      "           1       0.63      0.71      0.67    250000\n",
      "           2       0.49      0.45      0.47    250000\n",
      "           3       0.50      0.48      0.49    250000\n",
      "           4       0.53      0.54      0.53    250000\n",
      "           5       0.70      0.71      0.70    250000\n",
      "\n",
      "    accuracy                           0.58   1250000\n",
      "   macro avg       0.57      0.58      0.57   1250000\n",
      "weighted avg       0.57      0.58      0.57   1250000\n",
      "\n",
      "########################################################################\n",
      "For Validation Dataset:\n",
      "\n",
      "Accuracy: 0.59\n",
      "              precision    recall  f1-score   support\n",
      "\n",
      "           1       0.62      0.69      0.65     29926\n",
      "           2       0.35      0.42      0.38     21420\n",
      "           3       0.37      0.44      0.40     28734\n",
      "           4       0.47      0.50      0.49     60115\n",
      "           5       0.81      0.69      0.74    109805\n",
      "\n",
      "    accuracy                           0.59    250000\n",
      "   macro avg       0.52      0.55      0.53    250000\n",
      "weighted avg       0.62      0.59      0.60    250000\n",
      "\n",
      "########################################################################\n",
      "For Testing Dataset:\n",
      "\n",
      "Accuracy: 0.59\n",
      "              precision    recall  f1-score   support\n",
      "\n",
      "           1       0.62      0.69      0.65     29827\n",
      "           2       0.35      0.42      0.39     21573\n",
      "           3       0.37      0.44      0.41     28873\n",
      "           4       0.47      0.50      0.49     60088\n",
      "           5       0.81      0.68      0.74    109639\n",
      "\n",
      "    accuracy                           0.59    250000\n",
      "   macro avg       0.53      0.55      0.53    250000\n",
      "weighted avg       0.62      0.59      0.60    250000\n",
      "\n"
     ]
    }
   ],
   "source": [
    "Model_Evaluation(classification_nb,X_train,y_train,X_test,y_test,X_val,y_val)"
   ]
  },
  {
   "cell_type": "markdown",
   "id": "324707d3",
   "metadata": {},
   "source": [
    "### Using Logistic Regression Classifier"
   ]
  },
  {
   "cell_type": "markdown",
   "id": "05ae89b8",
   "metadata": {},
   "source": [
    "**Points to note while using Logistic Regression:**\n",
    "- Logistic Regression directly computes posterior probabilities without computing class conditional probabilities\n",
    "- It can learn only linear decision boundaries, but can be extended to multiclass classification by training multiple models to learn each of the class labels individually\n",
    "- It cannot handle missing values as posterior probabilites are calculated by taking a weighted sum of all attributes. Training instance with missing value have to be discarded, however if there are missing value in test data then logistic regression fails to predict its class label \n",
    "- It can handle irrelevant attributes by learning weight parameters close to zero for attributes that do not provide any gain in performance during model training. It can also handle interacting attributes since the learning of model parameters is achieved in a joint fashion by considering the effects of all attributes together.\n",
    "\n",
    "**Assumptions:**\n",
    "- There is a linear relationship between explanatory variables and the Logit of the Response Variable\n",
    "- Observations in the dataset are independent of each other\n",
    "- There is no multicollinearity among explanatory variables\n",
    "- There are no extreme outliers"
   ]
  },
  {
   "cell_type": "code",
   "execution_count": 35,
   "id": "0fa47f48",
   "metadata": {},
   "outputs": [],
   "source": [
    "from sklearn.linear_model import LogisticRegression"
   ]
  },
  {
   "cell_type": "markdown",
   "id": "33f6d5d2",
   "metadata": {},
   "source": [
    "[Documentation for sklearn's Logistic Regression](https://scikit-learn.org/stable/modules/generated/sklearn.linear_model.LogisticRegression.html)"
   ]
  },
  {
   "cell_type": "code",
   "execution_count": 36,
   "id": "ad122154",
   "metadata": {},
   "outputs": [],
   "source": [
    "classification_logr = LogisticRegression(penalty='l2', #default is l2 penalty\n",
    "                            tol=1e-4, #Tolerance for stopping criteria\n",
    "                            C=5.0,\n",
    "                            fit_intercept=True,\n",
    "                            class_weight='balanced',\n",
    "                            random_state=0,\n",
    "                            solver='lbfgs',\n",
    "                            max_iter=100,\n",
    "                            multi_class='auto',\n",
    "                            verbose=1,\n",
    "                            n_jobs=-1)"
   ]
  },
  {
   "cell_type": "code",
   "execution_count": 37,
   "id": "e2ca1b54",
   "metadata": {
    "scrolled": true
   },
   "outputs": [
    {
     "name": "stderr",
     "output_type": "stream",
     "text": [
      "[Parallel(n_jobs=-1)]: Using backend LokyBackend with 16 concurrent workers.\n",
      "[Parallel(n_jobs=-1)]: Done   1 out of   1 | elapsed:  3.3min finished\n"
     ]
    },
    {
     "name": "stdout",
     "output_type": "stream",
     "text": [
      "Wall time: 3min 17s\n"
     ]
    },
    {
     "data": {
      "text/plain": [
       "LogisticRegression(C=5.0, class_weight='balanced', n_jobs=-1, random_state=0,\n",
       "                   verbose=1)"
      ]
     },
     "execution_count": 37,
     "metadata": {},
     "output_type": "execute_result"
    }
   ],
   "source": [
    "%time classification_logr.fit(X_train, y_train)"
   ]
  },
  {
   "cell_type": "code",
   "execution_count": 38,
   "id": "ea1cef51",
   "metadata": {},
   "outputs": [
    {
     "name": "stdout",
     "output_type": "stream",
     "text": [
      "For Training Dataset:\n",
      "\n",
      "Accuracy: 0.61\n",
      "              precision    recall  f1-score   support\n",
      "\n",
      "           1       0.71      0.75      0.73    250000\n",
      "           2       0.54      0.52      0.53    250000\n",
      "           3       0.54      0.50      0.52    250000\n",
      "           4       0.55      0.54      0.54    250000\n",
      "           5       0.70      0.74      0.72    250000\n",
      "\n",
      "    accuracy                           0.61   1250000\n",
      "   macro avg       0.60      0.61      0.61   1250000\n",
      "weighted avg       0.60      0.61      0.61   1250000\n",
      "\n",
      "########################################################################\n",
      "For Validation Dataset:\n",
      "\n",
      "Accuracy: 0.63\n",
      "              precision    recall  f1-score   support\n",
      "\n",
      "           1       0.72      0.74      0.73     29926\n",
      "           2       0.42      0.51      0.46     21420\n",
      "           3       0.42      0.49      0.45     28734\n",
      "           4       0.50      0.52      0.51     60115\n",
      "           5       0.82      0.73      0.77    109805\n",
      "\n",
      "    accuracy                           0.63    250000\n",
      "   macro avg       0.58      0.60      0.58    250000\n",
      "weighted avg       0.65      0.63      0.64    250000\n",
      "\n",
      "########################################################################\n",
      "For Testing Dataset:\n",
      "\n",
      "Accuracy: 0.63\n",
      "              precision    recall  f1-score   support\n",
      "\n",
      "           1       0.73      0.74      0.74     29827\n",
      "           2       0.42      0.51      0.46     21573\n",
      "           3       0.42      0.49      0.45     28873\n",
      "           4       0.50      0.52      0.51     60088\n",
      "           5       0.82      0.73      0.77    109639\n",
      "\n",
      "    accuracy                           0.63    250000\n",
      "   macro avg       0.58      0.60      0.59    250000\n",
      "weighted avg       0.65      0.63      0.64    250000\n",
      "\n"
     ]
    }
   ],
   "source": [
    "Model_Evaluation(classification_logr,X_train,y_train,X_test,y_test,X_val,y_val)"
   ]
  },
  {
   "cell_type": "markdown",
   "id": "29f5ac7d",
   "metadata": {},
   "source": [
    "### Using Random Forest Classifier"
   ]
  },
  {
   "cell_type": "markdown",
   "id": "12b0ac45",
   "metadata": {},
   "source": [
    "**Points to note while using Random Forest:**\n",
    "- Random Forest is a bagging algorithm where-in different subsets of size N (same as entire training data) generated by random sampling with replacement of the training data, result in different trees\n",
    "- One variation from a standard bagging algorithm is that random forest also uses feature randomness wherein each tree in a random forest can pick only from a random subset of features\n",
    "- Bagging and Feature Randomness are applied when building each individual tree (which are not pruned), which create an uncorrelated forest of trees whose prediction by committee is more accurate than any individual tree\n",
    "\n",
    "**Decision Tree**\n",
    "- Decision Trees uses a greedy approach to grow by making locally optimal decisions about which attribute to use when partitioning the training data\n",
    "- Entropy or Gini Index or Gain Ratio which takes into account the number of branches into which tree splits is used for splitting the data\n",
    "- Decision Trees are a non-parametric approach which does not require any prior assumptions about the probability distribution of the attributes and also doesnt require any data transformations\n",
    "- It cannot handle interacting variables(if they are able to distinguish between classes when used together, but individually they provide little or no information) and performs poorly due to the greedy nature of splitting criteria as such variables might be passed over \n",
    "- It can handle missing values, irrelevant attributes (which are not useful for the classification task) by passing over them as they will not provide gain in purity and redundant attributes (if it is strongly correlated with another attribute in the data) as only one of them will be selected as they provide similar gains in purity\n",
    "- It can only learn linear decision boundaries - typically parallel to axis(x1<10 or x2>5), it can learn oblique decision boundaries(x1+x2<10) but they are computationally more expensive"
   ]
  },
  {
   "cell_type": "code",
   "execution_count": 45,
   "id": "60fd757d",
   "metadata": {},
   "outputs": [],
   "source": [
    "from sklearn.ensemble import RandomForestClassifier"
   ]
  },
  {
   "cell_type": "code",
   "execution_count": 46,
   "id": "d27dcb91",
   "metadata": {},
   "outputs": [],
   "source": [
    "classification_rf = RandomForestClassifier(n_estimators=50, #Number of Trees\n",
    "                                criterion=\"gini\",\n",
    "                                max_depth=10, #Max Depth of Trees\n",
    "                                min_samples_split=2,\n",
    "                                min_samples_leaf=10, \n",
    "                                max_features=0.5, #Use half random features \n",
    "                                n_jobs=-1,\n",
    "                                verbose=1,\n",
    "                                random_state=0,\n",
    "                                class_weight='balanced')"
   ]
  },
  {
   "cell_type": "code",
   "execution_count": 47,
   "id": "1cffef02",
   "metadata": {},
   "outputs": [
    {
     "name": "stderr",
     "output_type": "stream",
     "text": [
      "[Parallel(n_jobs=-1)]: Using backend ThreadingBackend with 16 concurrent workers.\n",
      "[Parallel(n_jobs=-1)]: Done  18 tasks      | elapsed: 28.3min\n"
     ]
    },
    {
     "name": "stdout",
     "output_type": "stream",
     "text": [
      "Wall time: 46min 26s\n"
     ]
    },
    {
     "name": "stderr",
     "output_type": "stream",
     "text": [
      "[Parallel(n_jobs=-1)]: Done  50 out of  50 | elapsed: 46.4min finished\n"
     ]
    },
    {
     "data": {
      "text/plain": [
       "RandomForestClassifier(class_weight='balanced', max_depth=10, max_features=0.5,\n",
       "                       min_samples_leaf=10, n_estimators=50, n_jobs=-1,\n",
       "                       random_state=0, verbose=1)"
      ]
     },
     "execution_count": 47,
     "metadata": {},
     "output_type": "execute_result"
    }
   ],
   "source": [
    "%time classification_rf.fit(X_train, y_train) "
   ]
  },
  {
   "cell_type": "code",
   "execution_count": 48,
   "id": "85cf97dd",
   "metadata": {},
   "outputs": [
    {
     "name": "stdout",
     "output_type": "stream",
     "text": [
      "For Training Dataset:\n",
      "\n",
      "Accuracy: 0.61\n",
      "              precision    recall  f1-score   support\n",
      "\n",
      "           1       0.71      0.75      0.73    250000\n",
      "           2       0.54      0.52      0.53    250000\n",
      "           3       0.54      0.50      0.52    250000\n",
      "           4       0.55      0.54      0.54    250000\n",
      "           5       0.70      0.74      0.72    250000\n",
      "\n",
      "    accuracy                           0.61   1250000\n",
      "   macro avg       0.60      0.61      0.61   1250000\n",
      "weighted avg       0.60      0.61      0.61   1250000\n",
      "\n",
      "########################################################################\n",
      "For Validation Dataset:\n",
      "\n",
      "Accuracy: 0.63\n",
      "              precision    recall  f1-score   support\n",
      "\n",
      "           1       0.72      0.74      0.73     29926\n",
      "           2       0.42      0.51      0.46     21420\n",
      "           3       0.42      0.49      0.45     28734\n",
      "           4       0.50      0.52      0.51     60115\n",
      "           5       0.82      0.73      0.77    109805\n",
      "\n",
      "    accuracy                           0.63    250000\n",
      "   macro avg       0.58      0.60      0.58    250000\n",
      "weighted avg       0.65      0.63      0.64    250000\n",
      "\n",
      "########################################################################\n",
      "For Testing Dataset:\n",
      "\n",
      "Accuracy: 0.63\n",
      "              precision    recall  f1-score   support\n",
      "\n",
      "           1       0.73      0.74      0.74     29827\n",
      "           2       0.42      0.51      0.46     21573\n",
      "           3       0.42      0.49      0.45     28873\n",
      "           4       0.50      0.52      0.51     60088\n",
      "           5       0.82      0.73      0.77    109639\n",
      "\n",
      "    accuracy                           0.63    250000\n",
      "   macro avg       0.58      0.60      0.59    250000\n",
      "weighted avg       0.65      0.63      0.64    250000\n",
      "\n"
     ]
    }
   ],
   "source": [
    "Model_Evaluation(classification_logr,X_train,y_train,X_test,y_test,X_val,y_val)"
   ]
  },
  {
   "cell_type": "markdown",
   "id": "5d3ad468",
   "metadata": {},
   "source": [
    "### Using Linear Support Vector Machine"
   ]
  },
  {
   "cell_type": "markdown",
   "id": "1d337e8d",
   "metadata": {},
   "source": [
    "**Points to note while using Support Vector Machine:**\n",
    "- SVM learning is formulated as a convex optimization problem, wherein we can find the global minima whereas greedy algorithms like tree and neural networks tend to find locally optimal solutions\n",
    "- SVM provides an effective way of regularizing the model parameters by maximizing the margin of the decision boundary. It is able to create a balance between model complexity and training errors by using a hyper-parameter 'alpha' in sk-learn\n",
    "- It can handle irrelevant attributes by learning zero weights for such attributes. It can also handle redundant attributes by learning similar weights for the duplicate attributes.\n",
    "- It cant handle missing data and data imputation is to be performed"
   ]
  },
  {
   "cell_type": "code",
   "execution_count": 54,
   "id": "f58881a4",
   "metadata": {},
   "outputs": [],
   "source": [
    "from sklearn.linear_model import SGDClassifier\n",
    "from sklearn.preprocessing import StandardScaler\n",
    "from sklearn.pipeline import make_pipeline\n",
    "\n",
    "classification_cvm = make_pipeline(StandardScaler(with_mean=False),\n",
    "                    SGDClassifier(loss = 'hinge',  #For using linear SVM\n",
    "                                  max_iter=1000, \n",
    "                                  penalty = 'l2',\n",
    "                                  tol=1e-3,\n",
    "                                  alpha = 0.1, #Constant that multiplies the regularization term. The higher the value, the stronger the regularization\n",
    "                                  verbose = 1,\n",
    "                                  random_state = 1,\n",
    "                                  class_weight = 'balanced',\n",
    "                                  early_stopping = True))"
   ]
  },
  {
   "cell_type": "code",
   "execution_count": 55,
   "id": "a3c03ea1",
   "metadata": {
    "scrolled": true
   },
   "outputs": [
    {
     "name": "stderr",
     "output_type": "stream",
     "text": [
      "[Parallel(n_jobs=1)]: Using backend SequentialBackend with 1 concurrent workers.\n"
     ]
    },
    {
     "name": "stdout",
     "output_type": "stream",
     "text": [
      "-- Epoch 1\n",
      "Norm: 1.00, NNZs: 57078, Bias: -0.070079, T: 1125000, Avg. loss: 0.364117\n",
      "Total training time: 0.33 seconds.\n",
      "-- Epoch 2\n",
      "Norm: 0.84, NNZs: 58869, Bias: -0.070849, T: 2250000, Avg. loss: 0.246257\n",
      "Total training time: 0.79 seconds.\n",
      "-- Epoch 3\n",
      "Norm: 0.79, NNZs: 59374, Bias: -0.071314, T: 3375000, Avg. loss: 0.234223\n",
      "Total training time: 1.24 seconds.\n",
      "-- Epoch 4\n",
      "Norm: 0.77, NNZs: 59595, Bias: -0.071646, T: 4500000, Avg. loss: 0.228984\n",
      "Total training time: 1.70 seconds.\n",
      "-- Epoch 5\n",
      "Norm: 0.76, NNZs: 59691, Bias: -0.071903, T: 5625000, Avg. loss: 0.225936\n",
      "Total training time: 2.16 seconds.\n",
      "-- Epoch 6\n",
      "Norm: 0.76, NNZs: 59738, Bias: -0.072112, T: 6750000, Avg. loss: 0.223928\n",
      "Total training time: 2.63 seconds.\n",
      "Convergence after 6 epochs took 2.78 seconds\n",
      "-- Epoch 1\n",
      "Norm: 0.88, NNZs: 60440, Bias: -0.089381, T: 1125000, Avg. loss: 0.597024\n",
      "Total training time: 0.31 seconds.\n",
      "-- Epoch 2\n",
      "Norm: 0.65, NNZs: 61444, Bias: -0.091461, T: 2250000, Avg. loss: 0.412295\n",
      "Total training time: 0.78 seconds.\n",
      "-- Epoch 3\n",
      "Norm: 0.58, NNZs: 61691, Bias: -0.092765, T: 3375000, Avg. loss: 0.394062\n",
      "Total training time: 1.31 seconds.\n",
      "-- Epoch 4\n",
      "Norm: 0.55, NNZs: 61792, Bias: -0.093720, T: 4500000, Avg. loss: 0.386245\n",
      "Total training time: 1.80 seconds.\n",
      "-- Epoch 5\n",
      "Norm: 0.53, NNZs: 61834, Bias: -0.094477, T: 5625000, Avg. loss: 0.381799\n",
      "Total training time: 2.36 seconds.\n",
      "-- Epoch 6\n",
      "Norm: 0.52, NNZs: 61859, Bias: -0.095107, T: 6750000, Avg. loss: 0.378914\n",
      "Total training time: 2.86 seconds.\n",
      "Convergence after 6 epochs took 3.02 seconds\n",
      "-- Epoch 1\n",
      "Norm: 0.87, NNZs: 60856, Bias: -0.081467, T: 1125000, Avg. loss: 0.613468\n",
      "Total training time: 0.32 seconds.\n",
      "-- Epoch 2\n",
      "Norm: 0.64, NNZs: 61695, Bias: -0.083742, T: 2250000, Avg. loss: 0.419392\n",
      "Total training time: 0.80 seconds.\n",
      "-- Epoch 3\n",
      "Norm: 0.56, NNZs: 61898, Bias: -0.085160, T: 3375000, Avg. loss: 0.400636\n",
      "Total training time: 1.28 seconds.\n",
      "-- Epoch 4\n",
      "Norm: 0.53, NNZs: 61957, Bias: -0.086220, T: 4500000, Avg. loss: 0.392583\n",
      "Total training time: 1.77 seconds.\n",
      "-- Epoch 5\n",
      "Norm: 0.52, NNZs: 61999, Bias: -0.087053, T: 5625000, Avg. loss: 0.387983\n",
      "Total training time: 2.25 seconds.\n",
      "-- Epoch 6\n",
      "Norm: 0.51, NNZs: 62024, Bias: -0.087741, T: 6750000, Avg. loss: 0.384957\n",
      "Total training time: 2.74 seconds.\n",
      "Convergence after 6 epochs took 2.88 seconds\n",
      "-- Epoch 1\n",
      "Norm: 0.92, NNZs: 60258, Bias: -0.050923, T: 1125000, Avg. loss: 0.585312\n",
      "Total training time: 0.34 seconds.\n",
      "-- Epoch 2\n",
      "Norm: 0.69, NNZs: 61260, Bias: -0.052767, T: 2250000, Avg. loss: 0.406057\n",
      "Total training time: 0.82 seconds.\n",
      "-- Epoch 3\n",
      "Norm: 0.62, NNZs: 61491, Bias: -0.053924, T: 3375000, Avg. loss: 0.387812\n",
      "Total training time: 1.31 seconds.\n",
      "-- Epoch 4\n",
      "Norm: 0.59, NNZs: 61606, Bias: -0.054767, T: 4500000, Avg. loss: 0.379846\n",
      "Total training time: 1.79 seconds.\n",
      "-- Epoch 5\n",
      "Norm: 0.57, NNZs: 61647, Bias: -0.055428, T: 5625000, Avg. loss: 0.375292\n",
      "Total training time: 2.28 seconds.\n",
      "-- Epoch 6\n",
      "Norm: 0.56, NNZs: 61675, Bias: -0.055981, T: 6750000, Avg. loss: 0.372345\n",
      "Total training time: 2.76 seconds.\n",
      "Convergence after 6 epochs took 2.92 seconds\n",
      "-- Epoch 1\n",
      "Norm: 1.04, NNZs: 57680, Bias: -0.041412, T: 1125000, Avg. loss: 0.387667\n",
      "Total training time: 0.30 seconds.\n",
      "-- Epoch 2\n",
      "Norm: 0.87, NNZs: 59431, Bias: -0.042392, T: 2250000, Avg. loss: 0.261865\n",
      "Total training time: 0.78 seconds.\n",
      "-- Epoch 3\n",
      "Norm: 0.82, NNZs: 59849, Bias: -0.042978, T: 3375000, Avg. loss: 0.248751\n",
      "Total training time: 1.25 seconds.\n",
      "-- Epoch 4\n",
      "Norm: 0.80, NNZs: 60030, Bias: -0.043399, T: 4500000, Avg. loss: 0.243206\n",
      "Total training time: 1.72 seconds.\n",
      "-- Epoch 5\n",
      "Norm: 0.79, NNZs: 60119, Bias: -0.043724, T: 5625000, Avg. loss: 0.239888\n",
      "Total training time: 2.18 seconds.\n",
      "-- Epoch 6\n",
      "Norm: 0.78, NNZs: 60169, Bias: -0.043996, T: 6750000, Avg. loss: 0.237701\n",
      "Total training time: 2.65 seconds.\n",
      "Convergence after 6 epochs took 2.81 seconds\n",
      "Wall time: 16.2 s\n"
     ]
    },
    {
     "name": "stderr",
     "output_type": "stream",
     "text": [
      "[Parallel(n_jobs=1)]: Done   5 out of   5 | elapsed:   14.8s finished\n"
     ]
    },
    {
     "data": {
      "text/plain": [
       "Pipeline(steps=[('standardscaler', StandardScaler(with_mean=False)),\n",
       "                ('sgdclassifier',\n",
       "                 SGDClassifier(alpha=0.1, class_weight='balanced',\n",
       "                               early_stopping=True, random_state=1,\n",
       "                               verbose=1))])"
      ]
     },
     "execution_count": 55,
     "metadata": {},
     "output_type": "execute_result"
    }
   ],
   "source": [
    "%time classification_cvm.fit(X_train, y_train)"
   ]
  },
  {
   "cell_type": "code",
   "execution_count": 56,
   "id": "06170e77",
   "metadata": {},
   "outputs": [
    {
     "name": "stdout",
     "output_type": "stream",
     "text": [
      "For Training Dataset:\n",
      "\n",
      "Accuracy: 0.62\n",
      "              precision    recall  f1-score   support\n",
      "\n",
      "           1       0.65      0.84      0.73    250000\n",
      "           2       0.58      0.45      0.51    250000\n",
      "           3       0.58      0.46      0.52    250000\n",
      "           4       0.58      0.48      0.53    250000\n",
      "           5       0.65      0.84      0.73    250000\n",
      "\n",
      "    accuracy                           0.62   1250000\n",
      "   macro avg       0.61      0.62      0.60   1250000\n",
      "weighted avg       0.61      0.62      0.60   1250000\n",
      "\n",
      "########################################################################\n",
      "For Validation Dataset:\n",
      "\n",
      "Accuracy: 0.62\n",
      "              precision    recall  f1-score   support\n",
      "\n",
      "           1       0.63      0.80      0.71     29926\n",
      "           2       0.37      0.38      0.37     21420\n",
      "           3       0.39      0.39      0.39     28734\n",
      "           4       0.50      0.40      0.45     60115\n",
      "           5       0.77      0.79      0.78    109805\n",
      "\n",
      "    accuracy                           0.62    250000\n",
      "   macro avg       0.53      0.55      0.54    250000\n",
      "weighted avg       0.61      0.62      0.61    250000\n",
      "\n",
      "########################################################################\n",
      "For Testing Dataset:\n",
      "\n",
      "Accuracy: 0.62\n",
      "              precision    recall  f1-score   support\n",
      "\n",
      "           1       0.63      0.80      0.71     29827\n",
      "           2       0.37      0.38      0.37     21573\n",
      "           3       0.39      0.38      0.39     28873\n",
      "           4       0.50      0.40      0.44     60088\n",
      "           5       0.76      0.79      0.78    109639\n",
      "\n",
      "    accuracy                           0.62    250000\n",
      "   macro avg       0.53      0.55      0.54    250000\n",
      "weighted avg       0.61      0.62      0.61    250000\n",
      "\n"
     ]
    }
   ],
   "source": [
    "Model_Evaluation(classification_cvm,X_train,y_train,X_test,y_test,X_val,y_val)"
   ]
  },
  {
   "cell_type": "code",
   "execution_count": null,
   "id": "16844ad8",
   "metadata": {},
   "outputs": [],
   "source": []
  },
  {
   "cell_type": "code",
   "execution_count": null,
   "id": "4282cfba",
   "metadata": {},
   "outputs": [],
   "source": []
  },
  {
   "cell_type": "code",
   "execution_count": null,
   "id": "07652b51",
   "metadata": {},
   "outputs": [],
   "source": []
  }
 ],
 "metadata": {
  "kernelspec": {
   "display_name": "Python 3 (ipykernel)",
   "language": "python",
   "name": "python3"
  },
  "language_info": {
   "codemirror_mode": {
    "name": "ipython",
    "version": 3
   },
   "file_extension": ".py",
   "mimetype": "text/x-python",
   "name": "python",
   "nbconvert_exporter": "python",
   "pygments_lexer": "ipython3",
   "version": "3.9.13"
  }
 },
 "nbformat": 4,
 "nbformat_minor": 5
}
